{
 "cells": [
  {
   "cell_type": "code",
   "execution_count": 1,
   "id": "80f6e522-29db-4a40-ba24-40057bdbb4c1",
   "metadata": {},
   "outputs": [],
   "source": [
    "import numpy as np \n",
    "import pandas as pd\n",
    "import matplotlib.pyplot as plt\n",
    "import seaborn as sns"
   ]
  },
  {
   "cell_type": "code",
   "execution_count": 2,
   "id": "88fb5723-c850-434e-adfb-d1784b7e9455",
   "metadata": {},
   "outputs": [
    {
     "name": "stdout",
     "output_type": "stream",
     "text": [
      "Requirement already satisfied: pandas in c:\\anaconda\\lib\\site-packages (2.2.3)\n",
      "Requirement already satisfied: scikit-learn in c:\\anaconda\\lib\\site-packages (1.6.1)\n",
      "Requirement already satisfied: matplotlib in c:\\anaconda\\lib\\site-packages (3.10.0)\n",
      "Requirement already satisfied: seaborn in c:\\anaconda\\lib\\site-packages (0.13.2)\n",
      "Requirement already satisfied: numpy>=1.26.0 in c:\\anaconda\\lib\\site-packages (from pandas) (2.1.3)\n",
      "Requirement already satisfied: python-dateutil>=2.8.2 in c:\\anaconda\\lib\\site-packages (from pandas) (2.9.0.post0)\n",
      "Requirement already satisfied: pytz>=2020.1 in c:\\anaconda\\lib\\site-packages (from pandas) (2024.1)\n",
      "Requirement already satisfied: tzdata>=2022.7 in c:\\anaconda\\lib\\site-packages (from pandas) (2025.2)\n",
      "Requirement already satisfied: scipy>=1.6.0 in c:\\anaconda\\lib\\site-packages (from scikit-learn) (1.15.3)\n",
      "Requirement already satisfied: joblib>=1.2.0 in c:\\anaconda\\lib\\site-packages (from scikit-learn) (1.4.2)\n",
      "Requirement already satisfied: threadpoolctl>=3.1.0 in c:\\anaconda\\lib\\site-packages (from scikit-learn) (3.5.0)\n",
      "Requirement already satisfied: contourpy>=1.0.1 in c:\\anaconda\\lib\\site-packages (from matplotlib) (1.3.1)\n",
      "Requirement already satisfied: cycler>=0.10 in c:\\anaconda\\lib\\site-packages (from matplotlib) (0.11.0)\n",
      "Requirement already satisfied: fonttools>=4.22.0 in c:\\anaconda\\lib\\site-packages (from matplotlib) (4.55.3)\n",
      "Requirement already satisfied: kiwisolver>=1.3.1 in c:\\anaconda\\lib\\site-packages (from matplotlib) (1.4.8)\n",
      "Requirement already satisfied: packaging>=20.0 in c:\\anaconda\\lib\\site-packages (from matplotlib) (24.2)\n",
      "Requirement already satisfied: pillow>=8 in c:\\anaconda\\lib\\site-packages (from matplotlib) (11.1.0)\n",
      "Requirement already satisfied: pyparsing>=2.3.1 in c:\\anaconda\\lib\\site-packages (from matplotlib) (3.2.0)\n",
      "Requirement already satisfied: six>=1.5 in c:\\anaconda\\lib\\site-packages (from python-dateutil>=2.8.2->pandas) (1.17.0)\n",
      "Note: you may need to restart the kernel to use updated packages.\n"
     ]
    }
   ],
   "source": [
    "#. Data Collection\n",
    "pip install pandas scikit-learn matplotlib seaborn"
   ]
  },
  {
   "cell_type": "code",
   "execution_count": 11,
   "id": "ecbb8e02-b5cb-405f-be24-83219e76a497",
   "metadata": {},
   "outputs": [],
   "source": [
    "#2. Data Preparation and Cleaning\n",
    "df=pd.read_csv(\"C:/Users/vijay/Downloads/GTA V/index.csv\")"
   ]
  },
  {
   "cell_type": "code",
   "execution_count": 12,
   "id": "47970b29-3889-4da7-8d5b-cd8339f83c46",
   "metadata": {},
   "outputs": [
    {
     "data": {
      "text/html": [
       "<div>\n",
       "<style scoped>\n",
       "    .dataframe tbody tr th:only-of-type {\n",
       "        vertical-align: middle;\n",
       "    }\n",
       "\n",
       "    .dataframe tbody tr th {\n",
       "        vertical-align: top;\n",
       "    }\n",
       "\n",
       "    .dataframe thead th {\n",
       "        text-align: right;\n",
       "    }\n",
       "</style>\n",
       "<table border=\"1\" class=\"dataframe\">\n",
       "  <thead>\n",
       "    <tr style=\"text-align: right;\">\n",
       "      <th></th>\n",
       "      <th>date</th>\n",
       "      <th>datetime</th>\n",
       "      <th>cash_type</th>\n",
       "      <th>card</th>\n",
       "      <th>money</th>\n",
       "      <th>coffee_name</th>\n",
       "    </tr>\n",
       "  </thead>\n",
       "  <tbody>\n",
       "    <tr>\n",
       "      <th>0</th>\n",
       "      <td>2024-03-01</td>\n",
       "      <td>2024-03-01 10:15:50.520</td>\n",
       "      <td>card</td>\n",
       "      <td>ANON-0000-0000-0001</td>\n",
       "      <td>38.7</td>\n",
       "      <td>Latte</td>\n",
       "    </tr>\n",
       "    <tr>\n",
       "      <th>1</th>\n",
       "      <td>2024-03-01</td>\n",
       "      <td>2024-03-01 12:19:22.539</td>\n",
       "      <td>card</td>\n",
       "      <td>ANON-0000-0000-0002</td>\n",
       "      <td>38.7</td>\n",
       "      <td>Hot Chocolate</td>\n",
       "    </tr>\n",
       "    <tr>\n",
       "      <th>2</th>\n",
       "      <td>2024-03-01</td>\n",
       "      <td>2024-03-01 12:20:18.089</td>\n",
       "      <td>card</td>\n",
       "      <td>ANON-0000-0000-0002</td>\n",
       "      <td>38.7</td>\n",
       "      <td>Hot Chocolate</td>\n",
       "    </tr>\n",
       "    <tr>\n",
       "      <th>3</th>\n",
       "      <td>2024-03-01</td>\n",
       "      <td>2024-03-01 13:46:33.006</td>\n",
       "      <td>card</td>\n",
       "      <td>ANON-0000-0000-0003</td>\n",
       "      <td>28.9</td>\n",
       "      <td>Americano</td>\n",
       "    </tr>\n",
       "    <tr>\n",
       "      <th>4</th>\n",
       "      <td>2024-03-01</td>\n",
       "      <td>2024-03-01 13:48:14.626</td>\n",
       "      <td>card</td>\n",
       "      <td>ANON-0000-0000-0004</td>\n",
       "      <td>38.7</td>\n",
       "      <td>Latte</td>\n",
       "    </tr>\n",
       "  </tbody>\n",
       "</table>\n",
       "</div>"
      ],
      "text/plain": [
       "         date                 datetime cash_type                 card  money  \\\n",
       "0  2024-03-01  2024-03-01 10:15:50.520      card  ANON-0000-0000-0001   38.7   \n",
       "1  2024-03-01  2024-03-01 12:19:22.539      card  ANON-0000-0000-0002   38.7   \n",
       "2  2024-03-01  2024-03-01 12:20:18.089      card  ANON-0000-0000-0002   38.7   \n",
       "3  2024-03-01  2024-03-01 13:46:33.006      card  ANON-0000-0000-0003   28.9   \n",
       "4  2024-03-01  2024-03-01 13:48:14.626      card  ANON-0000-0000-0004   38.7   \n",
       "\n",
       "     coffee_name  \n",
       "0          Latte  \n",
       "1  Hot Chocolate  \n",
       "2  Hot Chocolate  \n",
       "3      Americano  \n",
       "4          Latte  "
      ]
     },
     "execution_count": 12,
     "metadata": {},
     "output_type": "execute_result"
    }
   ],
   "source": [
    "df.head()"
   ]
  },
  {
   "cell_type": "code",
   "execution_count": 13,
   "id": "f3c4eb12-8d5d-4cfe-9185-7d574fd9d175",
   "metadata": {},
   "outputs": [
    {
     "data": {
      "text/plain": [
       "date            0\n",
       "datetime        0\n",
       "cash_type       0\n",
       "card           89\n",
       "money           0\n",
       "coffee_name     0\n",
       "dtype: int64"
      ]
     },
     "execution_count": 13,
     "metadata": {},
     "output_type": "execute_result"
    }
   ],
   "source": [
    "df.isnull().sum()"
   ]
  },
  {
   "cell_type": "code",
   "execution_count": 14,
   "id": "7a3cb2a9-6c45-4967-bc45-9e7be4ea3c71",
   "metadata": {},
   "outputs": [
    {
     "name": "stdout",
     "output_type": "stream",
     "text": [
      "<class 'pandas.core.frame.DataFrame'>\n",
      "RangeIndex: 1133 entries, 0 to 1132\n",
      "Data columns (total 6 columns):\n",
      " #   Column       Non-Null Count  Dtype  \n",
      "---  ------       --------------  -----  \n",
      " 0   date         1133 non-null   object \n",
      " 1   datetime     1133 non-null   object \n",
      " 2   cash_type    1133 non-null   object \n",
      " 3   card         1044 non-null   object \n",
      " 4   money        1133 non-null   float64\n",
      " 5   coffee_name  1133 non-null   object \n",
      "dtypes: float64(1), object(5)\n",
      "memory usage: 53.2+ KB\n"
     ]
    }
   ],
   "source": [
    "df.info()"
   ]
  },
  {
   "cell_type": "markdown",
   "id": "4e505406-763a-4218-b7e5-529c268ae30f",
   "metadata": {},
   "source": [
    "2. Clean the dataset"
   ]
  },
  {
   "cell_type": "code",
   "execution_count": 19,
   "id": "9040f708-5eb8-4263-a7f9-cac184929a46",
   "metadata": {},
   "outputs": [
    {
     "data": {
      "text/html": [
       "<div>\n",
       "<style scoped>\n",
       "    .dataframe tbody tr th:only-of-type {\n",
       "        vertical-align: middle;\n",
       "    }\n",
       "\n",
       "    .dataframe tbody tr th {\n",
       "        vertical-align: top;\n",
       "    }\n",
       "\n",
       "    .dataframe thead th {\n",
       "        text-align: right;\n",
       "    }\n",
       "</style>\n",
       "<table border=\"1\" class=\"dataframe\">\n",
       "  <thead>\n",
       "    <tr style=\"text-align: right;\">\n",
       "      <th></th>\n",
       "      <th>date</th>\n",
       "      <th>datetime</th>\n",
       "      <th>cash_type</th>\n",
       "      <th>card</th>\n",
       "      <th>money</th>\n",
       "      <th>coffee_name</th>\n",
       "    </tr>\n",
       "  </thead>\n",
       "  <tbody>\n",
       "    <tr>\n",
       "      <th>0</th>\n",
       "      <td>2024-03-01</td>\n",
       "      <td>2024-03-01 10:15:50.520</td>\n",
       "      <td>card</td>\n",
       "      <td>ANON-0000-0000-0001</td>\n",
       "      <td>38.7</td>\n",
       "      <td>Latte</td>\n",
       "    </tr>\n",
       "    <tr>\n",
       "      <th>1</th>\n",
       "      <td>2024-03-01</td>\n",
       "      <td>2024-03-01 12:19:22.539</td>\n",
       "      <td>card</td>\n",
       "      <td>ANON-0000-0000-0002</td>\n",
       "      <td>38.7</td>\n",
       "      <td>Hot Chocolate</td>\n",
       "    </tr>\n",
       "    <tr>\n",
       "      <th>2</th>\n",
       "      <td>2024-03-01</td>\n",
       "      <td>2024-03-01 12:20:18.089</td>\n",
       "      <td>card</td>\n",
       "      <td>ANON-0000-0000-0002</td>\n",
       "      <td>38.7</td>\n",
       "      <td>Hot Chocolate</td>\n",
       "    </tr>\n",
       "    <tr>\n",
       "      <th>3</th>\n",
       "      <td>2024-03-01</td>\n",
       "      <td>2024-03-01 13:46:33.006</td>\n",
       "      <td>card</td>\n",
       "      <td>ANON-0000-0000-0003</td>\n",
       "      <td>28.9</td>\n",
       "      <td>Americano</td>\n",
       "    </tr>\n",
       "    <tr>\n",
       "      <th>4</th>\n",
       "      <td>2024-03-01</td>\n",
       "      <td>2024-03-01 13:48:14.626</td>\n",
       "      <td>card</td>\n",
       "      <td>ANON-0000-0000-0004</td>\n",
       "      <td>38.7</td>\n",
       "      <td>Latte</td>\n",
       "    </tr>\n",
       "  </tbody>\n",
       "</table>\n",
       "</div>"
      ],
      "text/plain": [
       "        date                datetime cash_type                 card  money  \\\n",
       "0 2024-03-01 2024-03-01 10:15:50.520      card  ANON-0000-0000-0001   38.7   \n",
       "1 2024-03-01 2024-03-01 12:19:22.539      card  ANON-0000-0000-0002   38.7   \n",
       "2 2024-03-01 2024-03-01 12:20:18.089      card  ANON-0000-0000-0002   38.7   \n",
       "3 2024-03-01 2024-03-01 13:46:33.006      card  ANON-0000-0000-0003   28.9   \n",
       "4 2024-03-01 2024-03-01 13:48:14.626      card  ANON-0000-0000-0004   38.7   \n",
       "\n",
       "     coffee_name  \n",
       "0          Latte  \n",
       "1  Hot Chocolate  \n",
       "2  Hot Chocolate  \n",
       "3      Americano  \n",
       "4          Latte  "
      ]
     },
     "execution_count": 19,
     "metadata": {},
     "output_type": "execute_result"
    }
   ],
   "source": [
    "# Convert date and datetime columns\n",
    "df[\"date\"] = pd.to_datetime(df[\"date\"], errors=\"coerce\")\n",
    "df[\"datetime\"] = pd.to_datetime(df[\"datetime\"], errors=\"coerce\")\n",
    "\n",
    "# Convert money to numbers\n",
    "df[\"money\"] = pd.to_numeric(df[\"money\"], errors=\"coerce\")\n",
    "\n",
    "# Remove rows where important values are missing\n",
    "df = df.dropna(subset=[\"date\",\"datetime\",\"money\"])\n",
    "\n",
    "df.head()\n"
   ]
  },
  {
   "cell_type": "code",
   "execution_count": 23,
   "id": "a37b308c-c8a9-4239-8a36-587656917ed7",
   "metadata": {},
   "outputs": [
    {
     "data": {
      "text/plain": [
       "date            0\n",
       "datetime        0\n",
       "cash_type       0\n",
       "card           89\n",
       "money           0\n",
       "coffee_name     0\n",
       "dtype: int64"
      ]
     },
     "execution_count": 23,
     "metadata": {},
     "output_type": "execute_result"
    }
   ],
   "source": [
    "df.isnull().sum()"
   ]
  },
  {
   "cell_type": "markdown",
   "id": "2652a545-013c-4b11-9419-e53624c65689",
   "metadata": {},
   "source": [
    "Explanation:\n",
    "We make sure that the date, datetime, and money columns are in the correct format.\n",
    "\n",
    "to_datetime → changes text to date\n",
    "\n",
    "to_numeric → changes money into numbers\n",
    "\n",
    "dropna → removes missing/empty values"
   ]
  },
  {
   "cell_type": "code",
   "execution_count": 25,
   "id": "fac9860e-a550-44ea-8f86-178abd0f81b4",
   "metadata": {},
   "outputs": [
    {
     "data": {
      "text/html": [
       "<div>\n",
       "<style scoped>\n",
       "    .dataframe tbody tr th:only-of-type {\n",
       "        vertical-align: middle;\n",
       "    }\n",
       "\n",
       "    .dataframe tbody tr th {\n",
       "        vertical-align: top;\n",
       "    }\n",
       "\n",
       "    .dataframe thead th {\n",
       "        text-align: right;\n",
       "    }\n",
       "</style>\n",
       "<table border=\"1\" class=\"dataframe\">\n",
       "  <thead>\n",
       "    <tr style=\"text-align: right;\">\n",
       "      <th></th>\n",
       "      <th>date</th>\n",
       "      <th>datetime</th>\n",
       "      <th>cash_type</th>\n",
       "      <th>card</th>\n",
       "      <th>money</th>\n",
       "      <th>coffee_name</th>\n",
       "      <th>month</th>\n",
       "      <th>weekday</th>\n",
       "      <th>hour</th>\n",
       "    </tr>\n",
       "  </thead>\n",
       "  <tbody>\n",
       "    <tr>\n",
       "      <th>0</th>\n",
       "      <td>2024-03-01</td>\n",
       "      <td>2024-03-01 10:15:50.520</td>\n",
       "      <td>card</td>\n",
       "      <td>ANON-0000-0000-0001</td>\n",
       "      <td>38.7</td>\n",
       "      <td>Latte</td>\n",
       "      <td>2024-03</td>\n",
       "      <td>Friday</td>\n",
       "      <td>10</td>\n",
       "    </tr>\n",
       "    <tr>\n",
       "      <th>1</th>\n",
       "      <td>2024-03-01</td>\n",
       "      <td>2024-03-01 12:19:22.539</td>\n",
       "      <td>card</td>\n",
       "      <td>ANON-0000-0000-0002</td>\n",
       "      <td>38.7</td>\n",
       "      <td>Hot Chocolate</td>\n",
       "      <td>2024-03</td>\n",
       "      <td>Friday</td>\n",
       "      <td>12</td>\n",
       "    </tr>\n",
       "    <tr>\n",
       "      <th>2</th>\n",
       "      <td>2024-03-01</td>\n",
       "      <td>2024-03-01 12:20:18.089</td>\n",
       "      <td>card</td>\n",
       "      <td>ANON-0000-0000-0002</td>\n",
       "      <td>38.7</td>\n",
       "      <td>Hot Chocolate</td>\n",
       "      <td>2024-03</td>\n",
       "      <td>Friday</td>\n",
       "      <td>12</td>\n",
       "    </tr>\n",
       "    <tr>\n",
       "      <th>3</th>\n",
       "      <td>2024-03-01</td>\n",
       "      <td>2024-03-01 13:46:33.006</td>\n",
       "      <td>card</td>\n",
       "      <td>ANON-0000-0000-0003</td>\n",
       "      <td>28.9</td>\n",
       "      <td>Americano</td>\n",
       "      <td>2024-03</td>\n",
       "      <td>Friday</td>\n",
       "      <td>13</td>\n",
       "    </tr>\n",
       "    <tr>\n",
       "      <th>4</th>\n",
       "      <td>2024-03-01</td>\n",
       "      <td>2024-03-01 13:48:14.626</td>\n",
       "      <td>card</td>\n",
       "      <td>ANON-0000-0000-0004</td>\n",
       "      <td>38.7</td>\n",
       "      <td>Latte</td>\n",
       "      <td>2024-03</td>\n",
       "      <td>Friday</td>\n",
       "      <td>13</td>\n",
       "    </tr>\n",
       "  </tbody>\n",
       "</table>\n",
       "</div>"
      ],
      "text/plain": [
       "        date                datetime cash_type                 card  money  \\\n",
       "0 2024-03-01 2024-03-01 10:15:50.520      card  ANON-0000-0000-0001   38.7   \n",
       "1 2024-03-01 2024-03-01 12:19:22.539      card  ANON-0000-0000-0002   38.7   \n",
       "2 2024-03-01 2024-03-01 12:20:18.089      card  ANON-0000-0000-0002   38.7   \n",
       "3 2024-03-01 2024-03-01 13:46:33.006      card  ANON-0000-0000-0003   28.9   \n",
       "4 2024-03-01 2024-03-01 13:48:14.626      card  ANON-0000-0000-0004   38.7   \n",
       "\n",
       "     coffee_name    month weekday  hour  \n",
       "0          Latte  2024-03  Friday    10  \n",
       "1  Hot Chocolate  2024-03  Friday    12  \n",
       "2  Hot Chocolate  2024-03  Friday    12  \n",
       "3      Americano  2024-03  Friday    13  \n",
       "4          Latte  2024-03  Friday    13  "
      ]
     },
     "execution_count": 25,
     "metadata": {},
     "output_type": "execute_result"
    }
   ],
   "source": [
    "#3. Add new features\n",
    "# Extract new information\n",
    "df[\"month\"] = df[\"date\"].dt.to_period(\"M\").astype(str)\n",
    "df[\"weekday\"] = df[\"date\"].dt.day_name()\n",
    "df[\"hour\"] = df[\"datetime\"].dt.hour\n",
    "\n",
    "df.head()\n"
   ]
  },
  {
   "cell_type": "markdown",
   "id": "bbb5504c-8047-4112-bb13-44449977e34e",
   "metadata": {},
   "source": [
    "Explanation:\n",
    "We create extra columns from the dates:\n",
    "\n",
    "month → which month\n",
    "\n",
    "weekday → which day of week (Monday, Tuesday…)\n",
    "\n",
    "hour → what time of day"
   ]
  },
  {
   "cell_type": "code",
   "execution_count": 26,
   "id": "78b5edc6-b58f-4034-beb8-0ff7831882d7",
   "metadata": {},
   "outputs": [
    {
     "data": {
      "text/html": [
       "<div>\n",
       "<style scoped>\n",
       "    .dataframe tbody tr th:only-of-type {\n",
       "        vertical-align: middle;\n",
       "    }\n",
       "\n",
       "    .dataframe tbody tr th {\n",
       "        vertical-align: top;\n",
       "    }\n",
       "\n",
       "    .dataframe thead th {\n",
       "        text-align: right;\n",
       "    }\n",
       "</style>\n",
       "<table border=\"1\" class=\"dataframe\">\n",
       "  <thead>\n",
       "    <tr style=\"text-align: right;\">\n",
       "      <th></th>\n",
       "      <th>coffee_name</th>\n",
       "      <th>money</th>\n",
       "    </tr>\n",
       "  </thead>\n",
       "  <tbody>\n",
       "    <tr>\n",
       "      <th>7</th>\n",
       "      <td>Latte</td>\n",
       "      <td>9009.14</td>\n",
       "    </tr>\n",
       "    <tr>\n",
       "      <th>1</th>\n",
       "      <td>Americano with Milk</td>\n",
       "      <td>8601.94</td>\n",
       "    </tr>\n",
       "    <tr>\n",
       "      <th>2</th>\n",
       "      <td>Cappuccino</td>\n",
       "      <td>7333.14</td>\n",
       "    </tr>\n",
       "    <tr>\n",
       "      <th>0</th>\n",
       "      <td>Americano</td>\n",
       "      <td>4644.54</td>\n",
       "    </tr>\n",
       "    <tr>\n",
       "      <th>6</th>\n",
       "      <td>Hot Chocolate</td>\n",
       "      <td>2778.48</td>\n",
       "    </tr>\n",
       "    <tr>\n",
       "      <th>4</th>\n",
       "      <td>Cortado</td>\n",
       "      <td>2745.08</td>\n",
       "    </tr>\n",
       "    <tr>\n",
       "      <th>3</th>\n",
       "      <td>Cocoa</td>\n",
       "      <td>1295.94</td>\n",
       "    </tr>\n",
       "    <tr>\n",
       "      <th>5</th>\n",
       "      <td>Espresso</td>\n",
       "      <td>1100.62</td>\n",
       "    </tr>\n",
       "  </tbody>\n",
       "</table>\n",
       "</div>"
      ],
      "text/plain": [
       "           coffee_name    money\n",
       "7                Latte  9009.14\n",
       "1  Americano with Milk  8601.94\n",
       "2           Cappuccino  7333.14\n",
       "0            Americano  4644.54\n",
       "6        Hot Chocolate  2778.48\n",
       "4              Cortado  2745.08\n",
       "3                Cocoa  1295.94\n",
       "5             Espresso  1100.62"
      ]
     },
     "execution_count": 26,
     "metadata": {},
     "output_type": "execute_result"
    }
   ],
   "source": [
    "#4. Revenue by coffee type\n",
    "coffee_revenue = df.groupby(\"coffee_name\")[\"money\"].sum().reset_index().sort_values(\"money\", ascending=False)\n",
    "coffee_revenue\n"
   ]
  },
  {
   "cell_type": "markdown",
   "id": "e6c98b8a-b9c7-4fb6-9775-7b1b040ad02b",
   "metadata": {},
   "source": [
    "Explanation:\n",
    "group the data by coffee type (coffee_name) and add up the money.\n",
    "This shows which coffee earned the most money."
   ]
  },
  {
   "cell_type": "code",
   "execution_count": 27,
   "id": "e7f6bb22-50e2-4f8d-aa18-ebbcc78d43c0",
   "metadata": {},
   "outputs": [
    {
     "data": {
      "text/html": [
       "<div>\n",
       "<style scoped>\n",
       "    .dataframe tbody tr th:only-of-type {\n",
       "        vertical-align: middle;\n",
       "    }\n",
       "\n",
       "    .dataframe tbody tr th {\n",
       "        vertical-align: top;\n",
       "    }\n",
       "\n",
       "    .dataframe thead th {\n",
       "        text-align: right;\n",
       "    }\n",
       "</style>\n",
       "<table border=\"1\" class=\"dataframe\">\n",
       "  <thead>\n",
       "    <tr style=\"text-align: right;\">\n",
       "      <th></th>\n",
       "      <th>coffee_name</th>\n",
       "      <th>transactions</th>\n",
       "    </tr>\n",
       "  </thead>\n",
       "  <tbody>\n",
       "    <tr>\n",
       "      <th>0</th>\n",
       "      <td>Americano with Milk</td>\n",
       "      <td>268</td>\n",
       "    </tr>\n",
       "    <tr>\n",
       "      <th>1</th>\n",
       "      <td>Latte</td>\n",
       "      <td>243</td>\n",
       "    </tr>\n",
       "    <tr>\n",
       "      <th>2</th>\n",
       "      <td>Cappuccino</td>\n",
       "      <td>196</td>\n",
       "    </tr>\n",
       "    <tr>\n",
       "      <th>3</th>\n",
       "      <td>Americano</td>\n",
       "      <td>169</td>\n",
       "    </tr>\n",
       "    <tr>\n",
       "      <th>4</th>\n",
       "      <td>Cortado</td>\n",
       "      <td>99</td>\n",
       "    </tr>\n",
       "    <tr>\n",
       "      <th>5</th>\n",
       "      <td>Hot Chocolate</td>\n",
       "      <td>74</td>\n",
       "    </tr>\n",
       "    <tr>\n",
       "      <th>6</th>\n",
       "      <td>Espresso</td>\n",
       "      <td>49</td>\n",
       "    </tr>\n",
       "    <tr>\n",
       "      <th>7</th>\n",
       "      <td>Cocoa</td>\n",
       "      <td>35</td>\n",
       "    </tr>\n",
       "  </tbody>\n",
       "</table>\n",
       "</div>"
      ],
      "text/plain": [
       "           coffee_name  transactions\n",
       "0  Americano with Milk           268\n",
       "1                Latte           243\n",
       "2           Cappuccino           196\n",
       "3            Americano           169\n",
       "4              Cortado            99\n",
       "5        Hot Chocolate            74\n",
       "6             Espresso            49\n",
       "7                Cocoa            35"
      ]
     },
     "execution_count": 27,
     "metadata": {},
     "output_type": "execute_result"
    }
   ],
   "source": [
    "#5. Transactions by coffee type\n",
    "coffee_count = df[\"coffee_name\"].value_counts().reset_index()\n",
    "coffee_count.columns = [\"coffee_name\",\"transactions\"]\n",
    "coffee_count\n"
   ]
  },
  {
   "cell_type": "markdown",
   "id": "f72cfba2-054e-4222-ad0e-f8c13d2680a1",
   "metadata": {},
   "source": [
    "Explanation:\n",
    "I count how many times each coffee was sold.\n",
    "This shows which coffee was most popular."
   ]
  },
  {
   "cell_type": "code",
   "execution_count": 28,
   "id": "eeb885a2-94a7-4165-bfa2-df8e977ee936",
   "metadata": {},
   "outputs": [
    {
     "data": {
      "text/html": [
       "<div>\n",
       "<style scoped>\n",
       "    .dataframe tbody tr th:only-of-type {\n",
       "        vertical-align: middle;\n",
       "    }\n",
       "\n",
       "    .dataframe tbody tr th {\n",
       "        vertical-align: top;\n",
       "    }\n",
       "\n",
       "    .dataframe thead th {\n",
       "        text-align: right;\n",
       "    }\n",
       "</style>\n",
       "<table border=\"1\" class=\"dataframe\">\n",
       "  <thead>\n",
       "    <tr style=\"text-align: right;\">\n",
       "      <th></th>\n",
       "      <th>date</th>\n",
       "      <th>transactions</th>\n",
       "      <th>revenue</th>\n",
       "    </tr>\n",
       "  </thead>\n",
       "  <tbody>\n",
       "    <tr>\n",
       "      <th>0</th>\n",
       "      <td>2024-03-01</td>\n",
       "      <td>11</td>\n",
       "      <td>396.3</td>\n",
       "    </tr>\n",
       "    <tr>\n",
       "      <th>1</th>\n",
       "      <td>2024-03-02</td>\n",
       "      <td>7</td>\n",
       "      <td>228.1</td>\n",
       "    </tr>\n",
       "    <tr>\n",
       "      <th>2</th>\n",
       "      <td>2024-03-03</td>\n",
       "      <td>10</td>\n",
       "      <td>349.1</td>\n",
       "    </tr>\n",
       "    <tr>\n",
       "      <th>3</th>\n",
       "      <td>2024-03-04</td>\n",
       "      <td>4</td>\n",
       "      <td>135.2</td>\n",
       "    </tr>\n",
       "    <tr>\n",
       "      <th>4</th>\n",
       "      <td>2024-03-05</td>\n",
       "      <td>9</td>\n",
       "      <td>338.5</td>\n",
       "    </tr>\n",
       "  </tbody>\n",
       "</table>\n",
       "</div>"
      ],
      "text/plain": [
       "        date  transactions  revenue\n",
       "0 2024-03-01            11    396.3\n",
       "1 2024-03-02             7    228.1\n",
       "2 2024-03-03            10    349.1\n",
       "3 2024-03-04             4    135.2\n",
       "4 2024-03-05             9    338.5"
      ]
     },
     "execution_count": 28,
     "metadata": {},
     "output_type": "execute_result"
    }
   ],
   "source": [
    "#6. Daily sales\n",
    "daily_sales = df.groupby(\"date\").agg(\n",
    "    transactions=(\"coffee_name\",\"count\"),\n",
    "    revenue=(\"money\",\"sum\")\n",
    ").reset_index()\n",
    "\n",
    "daily_sales.head()\n"
   ]
  },
  {
   "cell_type": "markdown",
   "id": "7cdae3c3-966c-41a7-95ad-7b801845be34",
   "metadata": {},
   "source": [
    "Explanation:\n",
    "We group by each day to find total transactions and revenue.\n",
    "This helps us see daily sales trends."
   ]
  },
  {
   "cell_type": "code",
   "execution_count": 29,
   "id": "53c0ede3-ffd5-4441-a7ee-d3252f559130",
   "metadata": {},
   "outputs": [
    {
     "data": {
      "image/png": "[encoded data removed]",
      "text/plain": [
       "<Figure size 640x480 with 1 Axes>"
      ]
     },
     "metadata": {},
     "output_type": "display_data"
    }
   ],
   "source": [
    "#7. Plot daily revenue\n",
    "import matplotlib.pyplot as plt\n",
    "\n",
    "plt.plot(daily_sales[\"date\"], daily_sales[\"revenue\"])\n",
    "plt.title(\"Daily Revenue\")\n",
    "plt.xlabel(\"Date\")\n",
    "plt.ylabel(\"Revenue\")\n",
    "plt.show()\n"
   ]
  },
  {
   "cell_type": "markdown",
   "id": "f5b0c251-fd8d-4152-8a4c-47f6f8f6c38b",
   "metadata": {},
   "source": [
    "Explanation:\n",
    "I plot the revenue per day as a line chart to see how it changes over time."
   ]
  },
  {
   "cell_type": "code",
   "execution_count": 30,
   "id": "71c02520-fd85-4a18-8453-4c56f02038ff",
   "metadata": {},
   "outputs": [
    {
     "data": {
      "image/png": "[encoded data removed]",
      "text/plain": [
       "<Figure size 640x480 with 1 Axes>"
      ]
     },
     "metadata": {},
     "output_type": "display_data"
    }
   ],
   "source": [
    "#8. Hourly sales\n",
    "hourly_sales = df.groupby(\"hour\")[\"money\"].sum().reset_index()\n",
    "\n",
    "plt.bar(hourly_sales[\"hour\"], hourly_sales[\"money\"])\n",
    "plt.title(\"Revenue by Hour of Day\")\n",
    "plt.xlabel(\"Hour\")\n",
    "plt.ylabel(\"Revenue\")\n",
    "plt.show()\n"
   ]
  },
  {
   "cell_type": "markdown",
   "id": "3719543d-882b-4c1a-ad05-593ed66d28fb",
   "metadata": {},
   "source": [
    "Explanation:\n",
    "We group by the hour column to see which time of day makes the most money.\n",
    "A bar chart shows which hours are busiest."
   ]
  },
  {
   "cell_type": "code",
   "execution_count": 31,
   "id": "cc9fb5e5-f50b-4fc0-9a4f-e07aec00ca9b",
   "metadata": {},
   "outputs": [
    {
     "data": {
      "image/png": "[encoded data removed]",
      "text/plain": [
       "<Figure size 640x480 with 1 Axes>"
      ]
     },
     "metadata": {},
     "output_type": "display_data"
    }
   ],
   "source": [
    "#9. Weekday sales\n",
    "weekday_sales = df.groupby(\"weekday\")[\"money\"].sum().reset_index()\n",
    "\n",
    "plt.bar(weekday_sales[\"weekday\"], weekday_sales[\"money\"])\n",
    "plt.title(\"Revenue by Day of Week\")\n",
    "plt.xlabel(\"Weekday\")\n",
    "plt.ylabel(\"Revenue\")\n",
    "plt.show()\n"
   ]
  },
  {
   "cell_type": "markdown",
   "id": "bdd01636-6fc6-4d8f-a7d4-c752b6641abe",
   "metadata": {},
   "source": [
    "Explanation:\n",
    "I check which day of the week has the most revenue."
   ]
  },
  {
   "cell_type": "code",
   "execution_count": 32,
   "id": "0917b942-2508-4ea9-8118-ca7eedd922f3",
   "metadata": {},
   "outputs": [
    {
     "data": {
      "text/plain": [
       "2024-08-01    460.593678\n",
       "2024-08-02    468.594346\n",
       "2024-08-03    431.855256\n",
       "2024-08-04    423.941187\n",
       "2024-08-05    420.194212\n",
       "2024-08-06    502.675659\n",
       "2024-08-07    450.300565\n",
       "Freq: D, dtype: float64"
      ]
     },
     "execution_count": 32,
     "metadata": {},
     "output_type": "execute_result"
    }
   ],
   "source": [
    "#10. Simple Forecasting (Next Day Sales)\n",
    "from statsmodels.tsa.holtwinters import ExponentialSmoothing\n",
    "\n",
    "# Make sure we have daily data\n",
    "series = daily_sales.set_index(\"date\")[\"revenue\"].asfreq(\"D\").fillna(0)\n",
    "\n",
    "# Build model\n",
    "model = ExponentialSmoothing(series, trend=\"add\", seasonal=\"add\", seasonal_periods=7)\n",
    "fit = model.fit()\n",
    "\n",
    "# Forecast next 7 days\n",
    "forecast = fit.forecast(7)\n",
    "forecast\n"
   ]
  },
  {
   "cell_type": "markdown",
   "id": "c7f39315-0191-4bba-b7c5-4d05cda57ddc",
   "metadata": {},
   "source": [
    "Explanation:\n",
    "I use a simple Holt-Winters model to forecast revenue for the next 7 days.\n",
    "\n",
    "It looks at trend (overall increase/decrease)\n",
    "\n",
    "It looks at seasonality (weekly pattern)"
   ]
  },
  {
   "cell_type": "code",
   "execution_count": 33,
   "id": "816b35e2-f7d3-4ac9-af03-f8d780b7e4d1",
   "metadata": {},
   "outputs": [
    {
     "data": {
      "text/html": [
       "<div>\n",
       "<style scoped>\n",
       "    .dataframe tbody tr th:only-of-type {\n",
       "        vertical-align: middle;\n",
       "    }\n",
       "\n",
       "    .dataframe tbody tr th {\n",
       "        vertical-align: top;\n",
       "    }\n",
       "\n",
       "    .dataframe thead th {\n",
       "        text-align: right;\n",
       "    }\n",
       "</style>\n",
       "<table border=\"1\" class=\"dataframe\">\n",
       "  <thead>\n",
       "    <tr style=\"text-align: right;\">\n",
       "      <th></th>\n",
       "      <th>datetime</th>\n",
       "      <th>coffee_name</th>\n",
       "      <th>money</th>\n",
       "    </tr>\n",
       "  </thead>\n",
       "  <tbody>\n",
       "    <tr>\n",
       "      <th>371</th>\n",
       "      <td>2024-04-26 10:12:50.618</td>\n",
       "      <td>Latte</td>\n",
       "      <td>37.72</td>\n",
       "    </tr>\n",
       "    <tr>\n",
       "      <th>381</th>\n",
       "      <td>2024-04-28 10:32:52.479</td>\n",
       "      <td>Latte</td>\n",
       "      <td>37.72</td>\n",
       "    </tr>\n",
       "    <tr>\n",
       "      <th>432</th>\n",
       "      <td>2024-05-08 10:07:28.863</td>\n",
       "      <td>Latte</td>\n",
       "      <td>37.72</td>\n",
       "    </tr>\n",
       "    <tr>\n",
       "      <th>454</th>\n",
       "      <td>2024-05-12 10:20:42.512</td>\n",
       "      <td>Latte</td>\n",
       "      <td>37.72</td>\n",
       "    </tr>\n",
       "    <tr>\n",
       "      <th>530</th>\n",
       "      <td>2024-05-20 10:58:48.379</td>\n",
       "      <td>Latte</td>\n",
       "      <td>37.72</td>\n",
       "    </tr>\n",
       "    <tr>\n",
       "      <th>596</th>\n",
       "      <td>2024-05-26 10:20:02.233</td>\n",
       "      <td>Latte</td>\n",
       "      <td>37.72</td>\n",
       "    </tr>\n",
       "    <tr>\n",
       "      <th>647</th>\n",
       "      <td>2024-05-30 09:47:59.092</td>\n",
       "      <td>Latte</td>\n",
       "      <td>37.72</td>\n",
       "    </tr>\n",
       "    <tr>\n",
       "      <th>686</th>\n",
       "      <td>2024-06-03 10:12:04.141</td>\n",
       "      <td>Latte</td>\n",
       "      <td>37.72</td>\n",
       "    </tr>\n",
       "    <tr>\n",
       "      <th>710</th>\n",
       "      <td>2024-06-05 10:28:50.620</td>\n",
       "      <td>Latte</td>\n",
       "      <td>37.72</td>\n",
       "    </tr>\n",
       "    <tr>\n",
       "      <th>718</th>\n",
       "      <td>2024-06-06 10:36:09.667</td>\n",
       "      <td>Latte</td>\n",
       "      <td>37.72</td>\n",
       "    </tr>\n",
       "  </tbody>\n",
       "</table>\n",
       "</div>"
      ],
      "text/plain": [
       "                   datetime coffee_name  money\n",
       "371 2024-04-26 10:12:50.618       Latte  37.72\n",
       "381 2024-04-28 10:32:52.479       Latte  37.72\n",
       "432 2024-05-08 10:07:28.863       Latte  37.72\n",
       "454 2024-05-12 10:20:42.512       Latte  37.72\n",
       "530 2024-05-20 10:58:48.379       Latte  37.72\n",
       "596 2024-05-26 10:20:02.233       Latte  37.72\n",
       "647 2024-05-30 09:47:59.092       Latte  37.72\n",
       "686 2024-06-03 10:12:04.141       Latte  37.72\n",
       "710 2024-06-05 10:28:50.620       Latte  37.72\n",
       "718 2024-06-06 10:36:09.667       Latte  37.72"
      ]
     },
     "execution_count": 33,
     "metadata": {},
     "output_type": "execute_result"
    }
   ],
   "source": [
    "#11. Customer purchase history\n",
    "def customer_history(card_id):\n",
    "    cust = df[df[\"card\"] == card_id]\n",
    "    if cust.empty:\n",
    "        return \"No data for this customer\"\n",
    "    return cust[[\"datetime\",\"coffee_name\",\"money\"]].tail(10)\n",
    "\n",
    "# Example: check purchases of one customer\n",
    "example_card = df[\"card\"].dropna().unique()[0]\n",
    "customer_history(example_card)\n"
   ]
  },
  {
   "cell_type": "code",
   "execution_count": null,
   "id": "c93d578e-0bcb-4b1f-b0fa-6673d29e347a",
   "metadata": {},
   "outputs": [],
   "source": [
    "Explanation:\n",
    "This function shows the last 10 purchases of a given customer (card_id)."
   ]
  },
  {
   "cell_type": "markdown",
   "id": "abb4cef4-64eb-4a3e-9f54-a175d36d9e60",
   "metadata": {},
   "source": [
    "Conclusion\n",
    "\n",
    "The coffee business has clear sales patterns by coffee type, time of day, and weekday.\n",
    "\n",
    "Peak demand usually happens in the mornings and weekdays — aligning with office-hour crowds.\n",
    "\n",
    "Top coffee products contribute most of the revenue, showing which items are most valuable.\n",
    "\n",
    "Forecasting indicates steady future demand, with predictable weekly ups and downs.\n",
    "\n",
    "Understanding customer-level data (card IDs) provides opportunities for personalized marketing and customer retention.\n",
    "\n",
    "Business Recommendation:\n",
    "\n",
    "Focus promotions around the best-selling coffees.\n",
    "\n",
    "Prepare extra staff/stock during peak hours (mornings & weekdays).\n",
    "\n",
    "Introduce loyalty rewards for repeat customers (card-based tracking).\n",
    "\n",
    "Use forecasts to plan inventory and reduce waste."
   ]
  }
 ],
 "metadata": {
  "kernelspec": {
   "display_name": "Python 3 (ipykernel)",
   "language": "python",
   "name": "python3"
  },
  "language_info": {
   "codemirror_mode": {
    "name": "ipython",
    "version": 3
   },
   "file_extension": ".py",
   "mimetype": "text/x-python",
   "name": "python",
   "nbconvert_exporter": "python",
   "pygments_lexer": "ipython3",
   "version": "3.13.5"
  }
 },
 "nbformat": 4,
 "nbformat_minor": 5
}
